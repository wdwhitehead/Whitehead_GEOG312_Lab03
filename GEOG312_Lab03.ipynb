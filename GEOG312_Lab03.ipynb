{
  "cells": [
    {
      "cell_type": "markdown",
      "metadata": {
        "id": "SQN1w4JcsOlP"
      },
      "source": [
        "**Will Whitehead**"
      ]
    },
    {
      "cell_type": "code",
      "execution_count": 1,
      "metadata": {
        "colab": {
          "base_uri": "https://localhost:8080/"
        },
        "id": "43vEQyt8sOlP",
        "outputId": "db53776d-ba91-4cb9-9a5e-04d3996f7913"
      },
      "outputs": [
        {
          "output_type": "stream",
          "name": "stdout",
          "text": [
            "Submitted time: 2023-12-03 17:19:46.318380\n"
          ]
        }
      ],
      "source": [
        "from datetime import datetime\n",
        "\n",
        "now = datetime.now()\n",
        "print(f\"Submitted time: {now}\")"
      ]
    },
    {
      "cell_type": "markdown",
      "metadata": {
        "id": "ERMdVT2ssOlQ"
      },
      "source": [
        "## Question 1\n",
        "**Pizzas:** Think of at least three kinds of your favorite pizza. Store these pizza names in a list, and then use a for loop to print the name of each pizza.\n",
        "\n",
        "Modify your for loop to print a sentence using the name of the pizza instead of printing just the name of the pizza. For each pizza you should have one line of output containing a simple statement like *I like pepperoni pizza.*"
      ]
    },
    {
      "cell_type": "code",
      "execution_count": 7,
      "metadata": {
        "colab": {
          "base_uri": "https://localhost:8080/"
        },
        "id": "Bo_ImhqmsOlR",
        "outputId": "32df9a24-e610-4608-db6e-20f707bbb046"
      },
      "outputs": [
        {
          "output_type": "stream",
          "name": "stdout",
          "text": [
            "I like pepperoni pizza.\n",
            "I like cheese pizza.\n",
            "I like sausage pizza.\n"
          ]
        }
      ],
      "source": [
        "pizza = ['pepperoni', 'cheese', 'sausage']\n",
        "for pizza in pizza:\n",
        "  print(f'I like {pizza} pizza.')"
      ]
    },
    {
      "cell_type": "markdown",
      "metadata": {
        "id": "V276uh8lsOlR"
      },
      "source": [
        "Add a line at the end of your program, outside the for loop, that states how much you like pizza. The output should consist of three or more lines about the kinds of pizza you like and then an additional sentence, such as *I really love pizza!*"
      ]
    },
    {
      "cell_type": "code",
      "execution_count": 8,
      "metadata": {
        "colab": {
          "base_uri": "https://localhost:8080/"
        },
        "id": "I5ZuRg-EsOlR",
        "outputId": "0a546586-1ddc-40cb-9e42-4a7387b09964"
      },
      "outputs": [
        {
          "output_type": "stream",
          "name": "stdout",
          "text": [
            "I like pepperoni pizza.\n",
            "I like cheese pizza.\n",
            "I like sausage pizza.\n",
            "I really love pizza!\n"
          ]
        }
      ],
      "source": [
        "pizza = ['pepperoni', 'cheese', 'sausage']\n",
        "for pizza in pizza:\n",
        "  print(f'I like {pizza} pizza.')\n",
        "print('I really love pizza!')"
      ]
    },
    {
      "cell_type": "markdown",
      "metadata": {
        "id": "NSJd18Q4sOlR"
      },
      "source": [
        "## Question 2\n",
        "**Animals:** Think of at least three different animals that have a common characteristic. Store the names of these animals in a list, and then use a for loop to print out the name of each animal.\n",
        "\n",
        "Modify your program to print a statement about each animal, such as *A dog would make a great pet.*"
      ]
    },
    {
      "cell_type": "code",
      "execution_count": 9,
      "metadata": {
        "colab": {
          "base_uri": "https://localhost:8080/"
        },
        "id": "NwCTFM4IsOlS",
        "outputId": "a8d0a078-b5d3-45e1-b14a-d8fb56c7454e"
      },
      "outputs": [
        {
          "output_type": "stream",
          "name": "stdout",
          "text": [
            "A dog would make a great pet.\n",
            "A cat would make a great pet.\n",
            "A bunny would make a great pet.\n"
          ]
        }
      ],
      "source": [
        "pets = ['dog','cat','bunny']\n",
        "for pet in pets:\n",
        "  print(f'A {pet} would make a great pet.')"
      ]
    },
    {
      "cell_type": "markdown",
      "metadata": {
        "id": "gM3q7VIhsOlS"
      },
      "source": [
        "Add a line at the end of your program stating what these animals have in common. You could print a sentence such as *Any of these animals would make a great pet!*"
      ]
    },
    {
      "cell_type": "code",
      "execution_count": 10,
      "metadata": {
        "colab": {
          "base_uri": "https://localhost:8080/"
        },
        "id": "x16DD8F-sOlS",
        "outputId": "ef7b3f62-23ef-4817-fb45-7b17072f53e7"
      },
      "outputs": [
        {
          "output_type": "stream",
          "name": "stdout",
          "text": [
            "A dog would make a great pet.\n",
            "A cat would make a great pet.\n",
            "A bunny would make a great pet.\n",
            "Any of these animals would make a great pet.\n"
          ]
        }
      ],
      "source": [
        "pets = ['dog','cat','bunny']\n",
        "for pet in pets:\n",
        "  print(f'A {pet} would make a great pet.')\n",
        "print('Any of these animals would make a great pet.')"
      ]
    },
    {
      "cell_type": "markdown",
      "metadata": {
        "id": "DkDyy9tMsOlT"
      },
      "source": [
        "## Question 3\n",
        "**Counting to Twenty:** Use a for loop to print the numbers from 1 to 20, inclusive."
      ]
    },
    {
      "cell_type": "code",
      "execution_count": 13,
      "metadata": {
        "colab": {
          "base_uri": "https://localhost:8080/"
        },
        "id": "F3-Yko49sOlT",
        "outputId": "dc9d57d1-df6b-40a6-fc20-f42ace8a8c67"
      },
      "outputs": [
        {
          "output_type": "stream",
          "name": "stdout",
          "text": [
            "1\n",
            "2\n",
            "3\n",
            "4\n",
            "5\n",
            "6\n",
            "7\n",
            "8\n",
            "9\n",
            "10\n",
            "11\n",
            "12\n",
            "13\n",
            "14\n",
            "15\n",
            "16\n",
            "17\n",
            "18\n",
            "19\n",
            "20\n"
          ]
        }
      ],
      "source": [
        "for value in range(1, 21):\n",
        "  print(value)"
      ]
    },
    {
      "cell_type": "markdown",
      "metadata": {
        "id": "Jn-RJ4GmsOlT"
      },
      "source": [
        "## Question 4\n",
        "**One Hundred:** Make a list of the numbers from one to one hundred, and then use a for loop to print the numbers."
      ]
    },
    {
      "cell_type": "code",
      "execution_count": null,
      "metadata": {
        "id": "-Oryp69ssOlT"
      },
      "outputs": [],
      "source": [
        "hundred_list = list(range(1, 101))\n",
        "for number in hundred_list:\n",
        "  print(number)"
      ]
    },
    {
      "cell_type": "markdown",
      "metadata": {
        "id": "qTCvxhhUsOlT"
      },
      "source": [
        "## Question 5\n",
        "**Summing a Hundred:** Make a list of the numbers from one to one million, and then use `min()` and `max()` to make sure your list actually starts at one and ends at one hundred. Also, use the sum() function to see how quickly Python can add a hundred numbers."
      ]
    },
    {
      "cell_type": "code",
      "execution_count": 22,
      "metadata": {
        "colab": {
          "base_uri": "https://localhost:8080/"
        },
        "id": "LaRWPE_xsOlT",
        "outputId": "6c977a2a-82cf-4625-a94f-8a0ec27e5a17"
      },
      "outputs": [
        {
          "output_type": "stream",
          "name": "stdout",
          "text": [
            "1\n",
            "100\n"
          ]
        },
        {
          "output_type": "execute_result",
          "data": {
            "text/plain": [
              "5050"
            ]
          },
          "metadata": {},
          "execution_count": 22
        }
      ],
      "source": [
        "#I am a little confused by this question. If the list is from 1 to 1 million, it can't end at 100 if I use max(), right? I might just be misunderstanding.\n",
        "hundred_list = list(range(1, 101))\n",
        "print(min(hundred_list))\n",
        "print(max(hundred_list))\n",
        "sum(hundred_list)"
      ]
    },
    {
      "cell_type": "markdown",
      "metadata": {
        "id": "bI7h-CdwsOlT"
      },
      "source": [
        "## Question 6\n",
        "**Odd Numbers:** Use the third argument of the `range()` function to make a list of the odd numbers from 1 to 20. Use a `for` loop to print each number."
      ]
    },
    {
      "cell_type": "code",
      "execution_count": 24,
      "metadata": {
        "colab": {
          "base_uri": "https://localhost:8080/"
        },
        "id": "GraBfan0sOlU",
        "outputId": "2f458989-6421-45d8-8d8e-c6c5b3345b7b"
      },
      "outputs": [
        {
          "output_type": "stream",
          "name": "stdout",
          "text": [
            "1\n",
            "3\n",
            "5\n",
            "7\n",
            "9\n",
            "11\n",
            "13\n",
            "15\n",
            "17\n",
            "19\n"
          ]
        }
      ],
      "source": [
        "odd_list = list(range(1, 20, 2))\n",
        "for number in odd_list:\n",
        "  print(number)"
      ]
    },
    {
      "cell_type": "markdown",
      "metadata": {
        "id": "Xkxu3QT1sOlU"
      },
      "source": [
        "## Question 7\n",
        "**Threes:** Make a list of the multiples of 3 from 3 to 30. Use a `for` loop to print the numbers in your list."
      ]
    },
    {
      "cell_type": "code",
      "execution_count": 25,
      "metadata": {
        "colab": {
          "base_uri": "https://localhost:8080/"
        },
        "id": "F81Pns7vsOlU",
        "outputId": "39bacf58-84a3-4700-c15d-4ad030c640b9"
      },
      "outputs": [
        {
          "output_type": "stream",
          "name": "stdout",
          "text": [
            "3\n",
            "6\n",
            "9\n",
            "12\n",
            "15\n",
            "18\n",
            "21\n",
            "24\n",
            "27\n",
            "30\n"
          ]
        }
      ],
      "source": [
        "threes_list = list(range(3, 31, 3))\n",
        "for number in threes_list:\n",
        "  print(number)"
      ]
    },
    {
      "cell_type": "markdown",
      "metadata": {
        "id": "m1yq7wAasOlU"
      },
      "source": [
        "## Question 8\n",
        "**Cubes:** A number raised to the third power is called a cube. For example, the cube of 2 is written as 2 ** 3 in Python. Make a list of the first 10 cubes (that is, the cube of each integer from 1 through 10), and use a for loop to print out the value of each cube."
      ]
    },
    {
      "cell_type": "code",
      "execution_count": 31,
      "metadata": {
        "colab": {
          "base_uri": "https://localhost:8080/"
        },
        "id": "P3grxVo9sOlU",
        "outputId": "774588cc-526e-4420-8526-5c10ed51a67b"
      },
      "outputs": [
        {
          "output_type": "stream",
          "name": "stdout",
          "text": [
            "1\n",
            "8\n",
            "27\n",
            "64\n",
            "125\n",
            "216\n",
            "343\n",
            "512\n",
            "729\n",
            "1000\n"
          ]
        }
      ],
      "source": [
        "cubes = []\n",
        "cubes_list = list(range(1,11))\n",
        "for number in cubes_list:\n",
        "  cube = number ** 3\n",
        "  cubes.append(cube)\n",
        "for number in cubes:\n",
        "  print(number)"
      ]
    },
    {
      "cell_type": "markdown",
      "metadata": {
        "id": "3jaiaFUHsOlU"
      },
      "source": [
        "## Question 9\n",
        "**Cube Comprehension:** Use a list comprehension to generate a list of the first 10 cubes."
      ]
    },
    {
      "cell_type": "code",
      "execution_count": 32,
      "metadata": {
        "colab": {
          "base_uri": "https://localhost:8080/"
        },
        "id": "7ovTt-3PsOlU",
        "outputId": "f2369276-3ff3-4641-e501-67a276c13ba8"
      },
      "outputs": [
        {
          "output_type": "stream",
          "name": "stdout",
          "text": [
            "[1, 8, 27, 64, 125, 216, 343, 512, 729, 1000]\n"
          ]
        }
      ],
      "source": [
        "cubes = [value**3 for value in range(1, 11)]\n",
        "print(cubes)"
      ]
    },
    {
      "cell_type": "markdown",
      "metadata": {
        "id": "3j2IK6kpsOlU"
      },
      "source": [
        "## Question 10\n",
        "**Slices:** Using one of the programs you wrote in this lab, add several lines to the end of the program that do the following:\n",
        "\n",
        "Print the message *The first three items in the list are:*. Then use a slice to print the first three items from that program’s list."
      ]
    },
    {
      "cell_type": "code",
      "execution_count": 34,
      "metadata": {
        "colab": {
          "base_uri": "https://localhost:8080/"
        },
        "id": "dvj9tXFgsOlV",
        "outputId": "b73081aa-8fba-4b1a-8949-05cc357bb889"
      },
      "outputs": [
        {
          "output_type": "stream",
          "name": "stdout",
          "text": [
            "1\n",
            "3\n",
            "5\n",
            "7\n",
            "9\n",
            "11\n",
            "13\n",
            "15\n",
            "17\n",
            "19\n",
            "The first three items in the list are: [1, 3, 5].\n"
          ]
        }
      ],
      "source": [
        "#this is the odd number list from Question 6.\n",
        "odd_list = list(range(1, 20, 2))\n",
        "for number in odd_list:\n",
        "  print(number)\n",
        "print(f'The first three items in the list are: {odd_list[0:3]}.')"
      ]
    },
    {
      "cell_type": "markdown",
      "metadata": {
        "id": "5_HGOZJtsOlV"
      },
      "source": [
        "Print the message *Three items from the middle of the list are:*. Use a slice to print three items from the middle of the list."
      ]
    },
    {
      "cell_type": "code",
      "execution_count": 36,
      "metadata": {
        "colab": {
          "base_uri": "https://localhost:8080/"
        },
        "id": "n4GOdC1hsOlV",
        "outputId": "946e928c-09f5-4076-cdbc-4f604e4f4580"
      },
      "outputs": [
        {
          "output_type": "stream",
          "name": "stdout",
          "text": [
            "1\n",
            "3\n",
            "5\n",
            "7\n",
            "9\n",
            "11\n",
            "13\n",
            "15\n",
            "17\n",
            "19\n",
            "Three items from the middle of the list are: [9, 11, 13].\n"
          ]
        }
      ],
      "source": [
        "odd_list = list(range(1, 20, 2))\n",
        "for number in odd_list:\n",
        "  print(number)\n",
        "print(f'Three items from the middle of the list are: {odd_list[4:7]}.')"
      ]
    },
    {
      "cell_type": "markdown",
      "metadata": {
        "id": "YHfnqjFFsOlV"
      },
      "source": [
        "Print the message *The last three items in the list are:*. Use a slice to print the last three items in the list."
      ]
    },
    {
      "cell_type": "code",
      "execution_count": 39,
      "metadata": {
        "colab": {
          "base_uri": "https://localhost:8080/"
        },
        "id": "G6NWsAAmsOlV",
        "outputId": "7c3199ea-d8db-4711-d5aa-8876c1d48c75"
      },
      "outputs": [
        {
          "output_type": "stream",
          "name": "stdout",
          "text": [
            "1\n",
            "3\n",
            "5\n",
            "7\n",
            "9\n",
            "11\n",
            "13\n",
            "15\n",
            "17\n",
            "19\n",
            "The last three items in the list are: [15, 17, 19].\n"
          ]
        }
      ],
      "source": [
        "odd_list = list(range(1, 20, 2))\n",
        "for number in odd_list:\n",
        "  print(number)\n",
        "print(f'The last three items in the list are: {odd_list[7:10]}.')"
      ]
    },
    {
      "cell_type": "markdown",
      "metadata": {
        "id": "pf1Xx0B5sOlV"
      },
      "source": [
        "## Question 11\n",
        "**My Pizzas, Your Pizzas:** Start with your program from Question 1. Make a copy of the list of pizzas, and call it friend_pizzas. Then, do the following:\n",
        "\n",
        "Add a new pizza to the original list."
      ]
    },
    {
      "cell_type": "code",
      "execution_count": 43,
      "metadata": {
        "colab": {
          "base_uri": "https://localhost:8080/"
        },
        "id": "b8jsh5FssOlV",
        "outputId": "13736aaf-d9a6-4337-c270-66afefcc3ce0"
      },
      "outputs": [
        {
          "output_type": "stream",
          "name": "stdout",
          "text": [
            "['pepperoni', 'cheese', 'sausage', 'veggie']\n",
            "['pepperoni', 'cheese', 'sausage']\n"
          ]
        }
      ],
      "source": [
        "pizzas = ['pepperoni', 'cheese', 'sausage']\n",
        "friend_pizzas = ['pepperoni', 'cheese', 'sausage']\n",
        "pizzas.append('veggie')\n",
        "print(pizzas)\n",
        "print(friend_pizzas)"
      ]
    },
    {
      "cell_type": "markdown",
      "metadata": {
        "id": "h33SZmsUsOlV"
      },
      "source": [
        "Add a different pizza to the list `friend_pizzas`."
      ]
    },
    {
      "cell_type": "code",
      "execution_count": 44,
      "metadata": {
        "colab": {
          "base_uri": "https://localhost:8080/"
        },
        "id": "NmIUHBYVsOlV",
        "outputId": "e928e62f-0619-4849-f3a9-579589e1a89b"
      },
      "outputs": [
        {
          "output_type": "stream",
          "name": "stdout",
          "text": [
            "['pepperoni', 'cheese', 'sausage', 'veggie']\n",
            "['pepperoni', 'cheese', 'sausage', 'salami']\n"
          ]
        }
      ],
      "source": [
        "pizzas = ['pepperoni', 'cheese', 'sausage']\n",
        "friend_pizzas = ['pepperoni', 'cheese', 'sausage']\n",
        "pizzas.append('veggie')\n",
        "friend_pizzas.append('salami')\n",
        "print(pizzas)\n",
        "print(friend_pizzas)"
      ]
    },
    {
      "cell_type": "markdown",
      "metadata": {
        "id": "u69fZo7LsOlW"
      },
      "source": [
        "Prove that you have two separate lists. Print the message *My favorite pizzas are:*, and then use a for loop to print the first list. Print the message *My friend’s favorite pizzas are:*, and then use a for loop to print the second list. Make sure each new pizza is stored in the appropriate list."
      ]
    },
    {
      "cell_type": "code",
      "execution_count": 47,
      "metadata": {
        "colab": {
          "base_uri": "https://localhost:8080/"
        },
        "id": "JArxUzUBsOlW",
        "outputId": "2e2425b5-921a-47d2-c4de-ed0932444b47"
      },
      "outputs": [
        {
          "output_type": "stream",
          "name": "stdout",
          "text": [
            "My favorite pizzas are:\n",
            "Pepperoni\n",
            "Cheese\n",
            "Sausage\n",
            "Veggie\n",
            "My friend's favorite pizzas are:\n",
            "Pepperoni\n",
            "Cheese\n",
            "Sausage\n",
            "Salami\n"
          ]
        }
      ],
      "source": [
        "pizzas = ['pepperoni', 'cheese', 'sausage', 'veggie']\n",
        "friend_pizzas = ['pepperoni', 'cheese', 'sausage', 'salami']\n",
        "print('My favorite pizzas are:')\n",
        "for pizza in pizzas:\n",
        "  print(pizza.title())\n",
        "print(\"My friend's favorite pizzas are:\")\n",
        "for pizza in friend_pizzas:\n",
        "  print(pizza.title())"
      ]
    },
    {
      "cell_type": "markdown",
      "metadata": {
        "id": "gtg1hsPIsOlW"
      },
      "source": [
        "## Question 12\n",
        "**Buffet:** A buffet-style restaurant offers only five basic foods. Think of five simple foods, and store them in a tuple.\n",
        "\n",
        "Use a for loop to print each food the restaurant offers."
      ]
    },
    {
      "cell_type": "code",
      "execution_count": 48,
      "metadata": {
        "colab": {
          "base_uri": "https://localhost:8080/"
        },
        "id": "jAAyAnQDsOlW",
        "outputId": "ea19bb00-6862-494f-d651-ed578903d4c7"
      },
      "outputs": [
        {
          "output_type": "stream",
          "name": "stdout",
          "text": [
            "pizza\n",
            "rolls\n",
            "lasagna\n",
            "macaroni\n",
            "salad\n"
          ]
        }
      ],
      "source": [
        "foods = ('pizza', 'rolls', 'lasagna', 'macaroni', 'salad')\n",
        "for food in foods:\n",
        "  print(food)"
      ]
    },
    {
      "cell_type": "markdown",
      "metadata": {
        "id": "VZTwL0BysOla"
      },
      "source": [
        "Try to modify one of the items, and make sure that Python rejects the change."
      ]
    },
    {
      "cell_type": "code",
      "execution_count": 50,
      "metadata": {
        "colab": {
          "base_uri": "https://localhost:8080/",
          "height": 193
        },
        "id": "wqFj_V8ysOla",
        "outputId": "10ef19d8-9ab6-4496-a9c4-226f929a9ab2"
      },
      "outputs": [
        {
          "output_type": "error",
          "ename": "TypeError",
          "evalue": "ignored",
          "traceback": [
            "\u001b[0;31m---------------------------------------------------------------------------\u001b[0m",
            "\u001b[0;31mTypeError\u001b[0m                                 Traceback (most recent call last)",
            "\u001b[0;32m<ipython-input-50-f2fe28bca74f>\u001b[0m in \u001b[0;36m<cell line: 2>\u001b[0;34m()\u001b[0m\n\u001b[1;32m      1\u001b[0m \u001b[0mfoods\u001b[0m \u001b[0;34m=\u001b[0m \u001b[0;34m(\u001b[0m\u001b[0;34m'pizza'\u001b[0m\u001b[0;34m,\u001b[0m \u001b[0;34m'rolls'\u001b[0m\u001b[0;34m,\u001b[0m \u001b[0;34m'lasagna'\u001b[0m\u001b[0;34m,\u001b[0m \u001b[0;34m'macaroni'\u001b[0m\u001b[0;34m,\u001b[0m \u001b[0;34m'salad'\u001b[0m\u001b[0;34m)\u001b[0m\u001b[0;34m\u001b[0m\u001b[0;34m\u001b[0m\u001b[0m\n\u001b[0;32m----> 2\u001b[0;31m \u001b[0mfoods\u001b[0m\u001b[0;34m[\u001b[0m\u001b[0;36m3\u001b[0m\u001b[0;34m]\u001b[0m \u001b[0;34m=\u001b[0m \u001b[0;34m'breadsticks'\u001b[0m\u001b[0;34m\u001b[0m\u001b[0;34m\u001b[0m\u001b[0m\n\u001b[0m",
            "\u001b[0;31mTypeError\u001b[0m: 'tuple' object does not support item assignment"
          ]
        }
      ],
      "source": [
        "foods = ('pizza', 'rolls', 'lasagna', 'macaroni', 'salad')\n",
        "foods[3] = 'breadsticks'"
      ]
    },
    {
      "cell_type": "markdown",
      "metadata": {
        "id": "ApXzqFzZsOla"
      },
      "source": [
        "The restaurant changes its menu, replacing two of the items with different foods. Add a line that rewrites the tuple, and then use a for loop to print each of the items on the revised menu."
      ]
    },
    {
      "cell_type": "code",
      "execution_count": 57,
      "metadata": {
        "colab": {
          "base_uri": "https://localhost:8080/"
        },
        "id": "oIoqq4K2sOla",
        "outputId": "8c3f2348-b449-45cb-d533-b45185f4e249"
      },
      "outputs": [
        {
          "output_type": "stream",
          "name": "stdout",
          "text": [
            "Old Menu:\n",
            "Pizza\n",
            "Rolls\n",
            "Lasagna\n",
            "Macaroni\n",
            "Salad\n",
            "Revised Menu:\n",
            "Pizza\n",
            "Pasta\n",
            "Lasagna\n",
            "Breadsticks\n",
            "Salad\n"
          ]
        }
      ],
      "source": [
        "foods = ('pizza', 'rolls', 'lasagna', 'macaroni', 'salad')\n",
        "print('Old Menu:')\n",
        "for food in foods:\n",
        "  print(food.title())\n",
        "foods = ('pizza', 'pasta', 'lasagna', 'breadsticks', 'salad')\n",
        "print('Revised Menu:')\n",
        "for food in foods:\n",
        "  print(food.title())"
      ]
    }
  ],
  "metadata": {
    "kernelspec": {
      "display_name": "Python 3 (ipykernel)",
      "language": "python",
      "name": "python3"
    },
    "language_info": {
      "codemirror_mode": {
        "name": "ipython",
        "version": 3
      },
      "file_extension": ".py",
      "mimetype": "text/x-python",
      "name": "python",
      "nbconvert_exporter": "python",
      "pygments_lexer": "ipython3",
      "version": "3.8.10"
    },
    "colab": {
      "provenance": []
    }
  },
  "nbformat": 4,
  "nbformat_minor": 0
}